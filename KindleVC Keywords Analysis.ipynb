{
 "cells": [
  {
   "cell_type": "markdown",
   "metadata": {},
   "source": [
    "# KindleVC Keywords Selection"
   ]
  },
  {
   "cell_type": "code",
   "execution_count": 1,
   "metadata": {},
   "outputs": [],
   "source": [
    "import pandas as pd\n",
    "from gensim.models import Word2Vec \n",
    "import numpy as np\n",
    "import warnings\n",
    "warnings.filterwarnings(\"ignore\")\n",
    "warnings.warn(\"deprecated\", DeprecationWarning)"
   ]
  },
  {
   "cell_type": "code",
   "execution_count": 2,
   "metadata": {},
   "outputs": [
    {
     "data": {
      "text/html": [
       "<div>\n",
       "<style scoped>\n",
       "    .dataframe tbody tr th:only-of-type {\n",
       "        vertical-align: middle;\n",
       "    }\n",
       "\n",
       "    .dataframe tbody tr th {\n",
       "        vertical-align: top;\n",
       "    }\n",
       "\n",
       "    .dataframe thead th {\n",
       "        text-align: right;\n",
       "    }\n",
       "</style>\n",
       "<table border=\"1\" class=\"dataframe\">\n",
       "  <thead>\n",
       "    <tr style=\"text-align: right;\">\n",
       "      <th></th>\n",
       "      <th>Keyword</th>\n",
       "      <th>Relevancy</th>\n",
       "      <th>Min Monthly Volume</th>\n",
       "      <th>Max Monthly Volume</th>\n",
       "      <th>Specific Monthly Volume</th>\n",
       "    </tr>\n",
       "  </thead>\n",
       "  <tbody>\n",
       "    <tr>\n",
       "      <th>0</th>\n",
       "      <td>ventures</td>\n",
       "      <td>5</td>\n",
       "      <td>1701.0</td>\n",
       "      <td>2900.0</td>\n",
       "      <td>1739.972040</td>\n",
       "    </tr>\n",
       "    <tr>\n",
       "      <th>1</th>\n",
       "      <td>ventures definition</td>\n",
       "      <td>5</td>\n",
       "      <td>201.0</td>\n",
       "      <td>500.0</td>\n",
       "      <td>251.919166</td>\n",
       "    </tr>\n",
       "    <tr>\n",
       "      <th>2</th>\n",
       "      <td>ventures songs</td>\n",
       "      <td>5</td>\n",
       "      <td>101.0</td>\n",
       "      <td>200.0</td>\n",
       "      <td>111.469551</td>\n",
       "    </tr>\n",
       "    <tr>\n",
       "      <th>3</th>\n",
       "      <td>ventures band</td>\n",
       "      <td>5</td>\n",
       "      <td>0.0</td>\n",
       "      <td>10.0</td>\n",
       "      <td>0.000000</td>\n",
       "    </tr>\n",
       "    <tr>\n",
       "      <th>4</th>\n",
       "      <td>ventures meaning</td>\n",
       "      <td>5</td>\n",
       "      <td>11.0</td>\n",
       "      <td>50.0</td>\n",
       "      <td>27.242406</td>\n",
       "    </tr>\n",
       "  </tbody>\n",
       "</table>\n",
       "</div>"
      ],
      "text/plain": [
       "               Keyword  Relevancy  Min Monthly Volume  Max Monthly Volume  \\\n",
       "0             ventures          5              1701.0              2900.0   \n",
       "1  ventures definition          5               201.0               500.0   \n",
       "2       ventures songs          5               101.0               200.0   \n",
       "3        ventures band          5                 0.0                10.0   \n",
       "4     ventures meaning          5                11.0                50.0   \n",
       "\n",
       "   Specific Monthly Volume  \n",
       "0              1739.972040  \n",
       "1               251.919166  \n",
       "2               111.469551  \n",
       "3                 0.000000  \n",
       "4                27.242406  "
      ]
     },
     "execution_count": 2,
     "metadata": {},
     "output_type": "execute_result"
    }
   ],
   "source": [
    "df = pd.read_csv('keyword_ventures.csv')\n",
    "df.head()"
   ]
  },
  {
   "cell_type": "code",
   "execution_count": 3,
   "metadata": {},
   "outputs": [
    {
     "data": {
      "text/plain": [
       "(1000, 5)"
      ]
     },
     "execution_count": 3,
     "metadata": {},
     "output_type": "execute_result"
    }
   ],
   "source": [
    "df.shape"
   ]
  },
  {
   "cell_type": "code",
   "execution_count": 4,
   "metadata": {},
   "outputs": [
    {
     "data": {
      "text/plain": [
       "0               ventures\n",
       "1    ventures definition\n",
       "2         ventures songs\n",
       "3          ventures band\n",
       "4       ventures meaning\n",
       "Name: Keyword, dtype: object"
      ]
     },
     "execution_count": 4,
     "metadata": {},
     "output_type": "execute_result"
    }
   ],
   "source": [
    "df_key = df.Keyword.copy()\n",
    "df_key.head()"
   ]
  },
  {
   "cell_type": "code",
   "execution_count": 5,
   "metadata": {},
   "outputs": [
    {
     "data": {
      "text/plain": [
       "0"
      ]
     },
     "execution_count": 5,
     "metadata": {},
     "output_type": "execute_result"
    }
   ],
   "source": [
    "df_key.isnull().sum()"
   ]
  },
  {
   "cell_type": "code",
   "execution_count": 6,
   "metadata": {},
   "outputs": [
    {
     "data": {
      "text/plain": [
       "0                                 ventures\n",
       "1                      ventures definition\n",
       "2                           ventures songs\n",
       "3                            ventures band\n",
       "4                         ventures meaning\n",
       "                      ...                 \n",
       "995               comcast office locations\n",
       "996              comcast corporate address\n",
       "997                  google europe website\n",
       "998    youtube the ventures walk don't run\n",
       "999              comcast philadelphia jobs\n",
       "Name: Keyword, Length: 1000, dtype: object"
      ]
     },
     "execution_count": 6,
     "metadata": {},
     "output_type": "execute_result"
    }
   ],
   "source": [
    "df_key"
   ]
  },
  {
   "cell_type": "code",
   "execution_count": 7,
   "metadata": {},
   "outputs": [
    {
     "name": "stderr",
     "output_type": "stream",
     "text": [
      "[nltk_data] Downloading package stopwords to\n",
      "[nltk_data]     C:\\Users\\DELL\\AppData\\Roaming\\nltk_data...\n",
      "[nltk_data]   Package stopwords is already up-to-date!\n"
     ]
    }
   ],
   "source": [
    "import re\n",
    "import nltk\n",
    "nltk.download('stopwords')\n",
    "\n",
    "from nltk.corpus import stopwords\n",
    "from nltk.stem import WordNetLemmatizer \n",
    "lemmatizer = WordNetLemmatizer() \n",
    "corpus = []\n",
    "for i in range(0, len(df_key)):\n",
    "    review = re.sub('[^a-zA-Z]', ' ', df_key[i])\n",
    "    review = review.lower()\n",
    "    review = review.split()\n",
    "    \n",
    "    review = [lemmatizer.lemmatize(word) for word in review if not word in stopwords.words('english')]\n",
    "    review = ' '.join(review)\n",
    "    corpus.append(review)"
   ]
  },
  {
   "cell_type": "code",
   "execution_count": 8,
   "metadata": {},
   "outputs": [
    {
     "data": {
      "text/plain": [
       "['venture',\n",
       " 'venture definition',\n",
       " 'venture song',\n",
       " 'venture band',\n",
       " 'venture meaning']"
      ]
     },
     "execution_count": 8,
     "metadata": {},
     "output_type": "execute_result"
    }
   ],
   "source": [
    "corpus[:5]"
   ]
  },
  {
   "cell_type": "code",
   "execution_count": 9,
   "metadata": {},
   "outputs": [],
   "source": [
    "df_clean = pd.DataFrame(corpus,columns = ['Ventures_keywords'])"
   ]
  },
  {
   "cell_type": "code",
   "execution_count": 10,
   "metadata": {},
   "outputs": [
    {
     "data": {
      "text/html": [
       "<div>\n",
       "<style scoped>\n",
       "    .dataframe tbody tr th:only-of-type {\n",
       "        vertical-align: middle;\n",
       "    }\n",
       "\n",
       "    .dataframe tbody tr th {\n",
       "        vertical-align: top;\n",
       "    }\n",
       "\n",
       "    .dataframe thead th {\n",
       "        text-align: right;\n",
       "    }\n",
       "</style>\n",
       "<table border=\"1\" class=\"dataframe\">\n",
       "  <thead>\n",
       "    <tr style=\"text-align: right;\">\n",
       "      <th></th>\n",
       "      <th>Ventures_keywords</th>\n",
       "    </tr>\n",
       "  </thead>\n",
       "  <tbody>\n",
       "    <tr>\n",
       "      <th>0</th>\n",
       "      <td>venture</td>\n",
       "    </tr>\n",
       "    <tr>\n",
       "      <th>1</th>\n",
       "      <td>venture definition</td>\n",
       "    </tr>\n",
       "    <tr>\n",
       "      <th>2</th>\n",
       "      <td>venture song</td>\n",
       "    </tr>\n",
       "    <tr>\n",
       "      <th>3</th>\n",
       "      <td>venture band</td>\n",
       "    </tr>\n",
       "    <tr>\n",
       "      <th>4</th>\n",
       "      <td>venture meaning</td>\n",
       "    </tr>\n",
       "  </tbody>\n",
       "</table>\n",
       "</div>"
      ],
      "text/plain": [
       "    Ventures_keywords\n",
       "0             venture\n",
       "1  venture definition\n",
       "2        venture song\n",
       "3        venture band\n",
       "4     venture meaning"
      ]
     },
     "execution_count": 10,
     "metadata": {},
     "output_type": "execute_result"
    }
   ],
   "source": [
    "df_clean.head()"
   ]
  },
  {
   "cell_type": "code",
   "execution_count": 11,
   "metadata": {},
   "outputs": [],
   "source": [
    "sent = [row.split(' ') for row in df_clean['Ventures_keywords']]"
   ]
  },
  {
   "cell_type": "code",
   "execution_count": 12,
   "metadata": {},
   "outputs": [
    {
     "data": {
      "text/plain": [
       "[['venture'],\n",
       " ['venture', 'definition'],\n",
       " ['venture', 'song'],\n",
       " ['venture', 'band'],\n",
       " ['venture', 'meaning'],\n",
       " ['venture', 'ffxiv'],\n",
       " ['venture', 'arcade'],\n",
       " ['venture', 'synonym'],\n",
       " ['venture', 'music'],\n",
       " ['venture', 'song'],\n",
       " ['venture', 'website'],\n",
       " ['venture', 'member'],\n",
       " ['venture', 'apache'],\n",
       " ['venture'],\n",
       " ['wilson', 'venture'],\n",
       " ['venture', 'seattle'],\n",
       " ['leon', 'taylor', 'drummer'],\n",
       " ['venture', 'album', 'cover'],\n",
       " ['venture', 'youtube'],\n",
       " ['apache', 'venture'],\n",
       " ['venture', 'album', 'cover'],\n",
       " ['venture', 'greatest', 'hit'],\n",
       " ['original', 'venture'],\n",
       " ['venture', 'wiki'],\n",
       " ['venture', 'forth', 'meaning'],\n",
       " ['venture', 'business'],\n",
       " ['bob', 'spalding'],\n",
       " ['apache', 'venture', 'original'],\n",
       " ['venture', 'surf', 'music'],\n",
       " ['venture', 'tour'],\n",
       " ['venture', 'website'],\n",
       " ['song', 'venture'],\n",
       " ['youtube', 'venture', 'pipeline'],\n",
       " ['venture', 'music', 'free', 'download'],\n",
       " ['venture', 'tour'],\n",
       " ['venture', 'walk', 'run'],\n",
       " ['venture', 'drummer'],\n",
       " ['venture', 'new', 'album'],\n",
       " ['venture', 'orientation'],\n",
       " ['venture', 'band'],\n",
       " ['venture', 'walk', 'run'],\n",
       " ['venture', 'unlimited', 'inc'],\n",
       " ['venture'],\n",
       " ['venture', 'concert'],\n",
       " ['venture', 'fan', 'club'],\n",
       " ['venture', 'youtube'],\n",
       " ['venture', 'pipeline'],\n",
       " ['venture', 'store'],\n",
       " ['venture'],\n",
       " ['venture']]"
      ]
     },
     "execution_count": 12,
     "metadata": {},
     "output_type": "execute_result"
    }
   ],
   "source": [
    "sent[:50]"
   ]
  },
  {
   "cell_type": "code",
   "execution_count": 13,
   "metadata": {},
   "outputs": [],
   "source": [
    "from gensim.models import Word2Vec \n",
    "model = Word2Vec(sent, min_count=2,size= 800,workers=3, window =20, sg = 1)"
   ]
  },
  {
   "cell_type": "code",
   "execution_count": 14,
   "metadata": {},
   "outputs": [
    {
     "name": "stdout",
     "output_type": "stream",
     "text": [
      "['venture', 'definition', 'song', 'band', 'meaning', 'ffxiv', 'arcade', 'synonym', 'music', 'website', 'member', 'apache', 'wilson', 'seattle', 'leon', 'taylor', 'drummer', 'album', 'cover', 'youtube', 'greatest', 'hit', 'original', 'wiki', 'forth', 'business', 'bob', 'spalding', 'surf', 'tour', 'pipeline', 'free', 'download', 'walk', 'run', 'new', 'inc', 'fan', 'club', 'store', 'google', 'job', 'instrumental', 'first', 'never', 'video', 'best', 'telstar', 'mp', 'history', 'bio', 'discography', 'biography', 'bros', 'venturing', 'mean', 'great', 'fund', 'work', 'ventured', 'howie', 'johnson', 'guitarist', 'v', 'adventure', 'gerry', 'mcgee', 'billboard', 'current', 'tamil', 'surfing', 'blog', 'pioneer', 'square', 'lab', 'company', 'psl', 'studio', 'guitar', 'pound', 'bee', 'rock', 'roll', 'hall', 'fame', 'entrepreneurship', 'com', 'play', 'tube', 'lead', 'group', 'english', 'wikipedia', 'squad', 'commercial', 'cash', 'career', 'venturist', 'christmas', 'hindi', 'sentence', 'golden', 'official', 'sleep', 'another', 'word', 'joe', 'barile', 'bogle', 'bass', 'discogs', 'japan', 'originally', 'today', 'top', 'perfidia', 'recording', 'tequila', 'dictionary', 'spell', 'house', 'enterprise', 'pike', 'place', 'market', 'nonprofit', 'staff', 'full', 'cd', 'list', 'startup', 'still', 'alive', 'use', 'played', 'drum', 'recorded', 'dont', 'wrote', 'kind', 'nokie', 'edward', 'die', 'old', 'wipeout', 'performed', 'type', 'chart', 'number', 'one', 'difference', 'entrepreneurial', 'antonym', 'economic', 'sang', 'movie', 'year', 'come', 'spanish', 'capital', 'part', 'wipe', 'vc', 'investor', 'description', 'small', 'entrepreneur', 'model', 'nutty', 'space', 'lawyer', 'money', 'management', 'fee', 'root', 'mosrite', 'live', 'vinyl', 'hawaii', 'five', 'boston', 'theme', 'mel', 'expanded', 'edition', 'record', 'chantays', 'lp', 'net', 'worth', 'get', 'gear', 'define', 'venturer', 'voyager', 'capitalist', 'lyric', 'online', 'shadow', 'vol', 'go', 'chord', 'tornado', 'sound', 'speech', 'idea', 'recycling', 'law', 'opposite', 'calibrated', 'eventure', 'edinburgh', 'class', 'solo', 'joint', 'firm', 'legal', 'internship', 'translate', 'basic', 'ff', 'mile', 'seal', 'retainer', 'micro', 'loan', 'volunteer', 'kitchen', 'promissory', 'note', 'spend', 'penetration', 'pyramid', 'th', 'batman', 'listening', 'latin', 'corporate', 'lending', 'austin', 'rental', 'true', 'madrona', 'investment', 'comcast', 'logo', 'office', 'twist', 'review', 'sleepwalk', 'cdc', 'login', 'grand', 'rank', 'reggae', 'headquarters', 'location', 'address']\n"
     ]
    }
   ],
   "source": [
    "words=list(model.wv.vocab)\n",
    "print(words)"
   ]
  },
  {
   "cell_type": "code",
   "execution_count": 15,
   "metadata": {},
   "outputs": [
    {
     "data": {
      "text/html": [
       "<div>\n",
       "<style scoped>\n",
       "    .dataframe tbody tr th:only-of-type {\n",
       "        vertical-align: middle;\n",
       "    }\n",
       "\n",
       "    .dataframe tbody tr th {\n",
       "        vertical-align: top;\n",
       "    }\n",
       "\n",
       "    .dataframe thead th {\n",
       "        text-align: right;\n",
       "    }\n",
       "</style>\n",
       "<table border=\"1\" class=\"dataframe\">\n",
       "  <thead>\n",
       "    <tr style=\"text-align: right;\">\n",
       "      <th></th>\n",
       "      <th>0</th>\n",
       "      <th>1</th>\n",
       "      <th>2</th>\n",
       "      <th>3</th>\n",
       "      <th>4</th>\n",
       "      <th>5</th>\n",
       "      <th>6</th>\n",
       "      <th>7</th>\n",
       "      <th>8</th>\n",
       "      <th>9</th>\n",
       "      <th>...</th>\n",
       "      <th>790</th>\n",
       "      <th>791</th>\n",
       "      <th>792</th>\n",
       "      <th>793</th>\n",
       "      <th>794</th>\n",
       "      <th>795</th>\n",
       "      <th>796</th>\n",
       "      <th>797</th>\n",
       "      <th>798</th>\n",
       "      <th>799</th>\n",
       "    </tr>\n",
       "  </thead>\n",
       "  <tbody>\n",
       "    <tr>\n",
       "      <th>0</th>\n",
       "      <td>0.000573</td>\n",
       "      <td>-0.000172</td>\n",
       "      <td>0.000219</td>\n",
       "      <td>0.001562</td>\n",
       "      <td>-0.000349</td>\n",
       "      <td>0.000332</td>\n",
       "      <td>-0.000848</td>\n",
       "      <td>-0.001344</td>\n",
       "      <td>-0.000697</td>\n",
       "      <td>-0.000358</td>\n",
       "      <td>...</td>\n",
       "      <td>-0.000624</td>\n",
       "      <td>0.000708</td>\n",
       "      <td>-0.000135</td>\n",
       "      <td>-0.000413</td>\n",
       "      <td>0.000960</td>\n",
       "      <td>0.001138</td>\n",
       "      <td>0.000154</td>\n",
       "      <td>-0.000636</td>\n",
       "      <td>0.001057</td>\n",
       "      <td>-0.000269</td>\n",
       "    </tr>\n",
       "    <tr>\n",
       "      <th>1</th>\n",
       "      <td>0.000548</td>\n",
       "      <td>0.000485</td>\n",
       "      <td>0.000401</td>\n",
       "      <td>0.000653</td>\n",
       "      <td>-0.000436</td>\n",
       "      <td>-0.000259</td>\n",
       "      <td>-0.000593</td>\n",
       "      <td>-0.000181</td>\n",
       "      <td>0.000024</td>\n",
       "      <td>-0.000385</td>\n",
       "      <td>...</td>\n",
       "      <td>-0.000450</td>\n",
       "      <td>0.000019</td>\n",
       "      <td>-0.000602</td>\n",
       "      <td>-0.000599</td>\n",
       "      <td>0.000016</td>\n",
       "      <td>0.000534</td>\n",
       "      <td>0.000388</td>\n",
       "      <td>0.000161</td>\n",
       "      <td>0.000244</td>\n",
       "      <td>0.000412</td>\n",
       "    </tr>\n",
       "    <tr>\n",
       "      <th>2</th>\n",
       "      <td>0.000102</td>\n",
       "      <td>-0.000047</td>\n",
       "      <td>-0.000533</td>\n",
       "      <td>0.001268</td>\n",
       "      <td>-0.000091</td>\n",
       "      <td>-0.000284</td>\n",
       "      <td>-0.000563</td>\n",
       "      <td>-0.000224</td>\n",
       "      <td>-0.000177</td>\n",
       "      <td>0.000227</td>\n",
       "      <td>...</td>\n",
       "      <td>0.000555</td>\n",
       "      <td>-0.000258</td>\n",
       "      <td>0.000473</td>\n",
       "      <td>-0.000636</td>\n",
       "      <td>0.000535</td>\n",
       "      <td>-0.000107</td>\n",
       "      <td>0.000331</td>\n",
       "      <td>0.000350</td>\n",
       "      <td>0.000228</td>\n",
       "      <td>0.000386</td>\n",
       "    </tr>\n",
       "    <tr>\n",
       "      <th>3</th>\n",
       "      <td>-0.000110</td>\n",
       "      <td>-0.000425</td>\n",
       "      <td>0.000329</td>\n",
       "      <td>-0.000277</td>\n",
       "      <td>-0.000014</td>\n",
       "      <td>0.000299</td>\n",
       "      <td>0.000028</td>\n",
       "      <td>0.000027</td>\n",
       "      <td>-0.000026</td>\n",
       "      <td>-0.000288</td>\n",
       "      <td>...</td>\n",
       "      <td>0.000318</td>\n",
       "      <td>0.000032</td>\n",
       "      <td>0.000099</td>\n",
       "      <td>0.000276</td>\n",
       "      <td>0.000143</td>\n",
       "      <td>-0.000289</td>\n",
       "      <td>-0.000255</td>\n",
       "      <td>-0.000478</td>\n",
       "      <td>-0.000235</td>\n",
       "      <td>0.000207</td>\n",
       "    </tr>\n",
       "    <tr>\n",
       "      <th>4</th>\n",
       "      <td>0.000354</td>\n",
       "      <td>0.000525</td>\n",
       "      <td>-0.000573</td>\n",
       "      <td>-0.000166</td>\n",
       "      <td>-0.000272</td>\n",
       "      <td>0.000589</td>\n",
       "      <td>-0.000043</td>\n",
       "      <td>-0.000080</td>\n",
       "      <td>0.000415</td>\n",
       "      <td>-0.000512</td>\n",
       "      <td>...</td>\n",
       "      <td>0.000383</td>\n",
       "      <td>-0.000353</td>\n",
       "      <td>-0.000605</td>\n",
       "      <td>-0.000587</td>\n",
       "      <td>-0.000069</td>\n",
       "      <td>-0.000052</td>\n",
       "      <td>-0.000576</td>\n",
       "      <td>0.000300</td>\n",
       "      <td>0.000166</td>\n",
       "      <td>0.000455</td>\n",
       "    </tr>\n",
       "  </tbody>\n",
       "</table>\n",
       "<p>5 rows × 800 columns</p>\n",
       "</div>"
      ],
      "text/plain": [
       "        0         1         2         3         4         5         6    \\\n",
       "0  0.000573 -0.000172  0.000219  0.001562 -0.000349  0.000332 -0.000848   \n",
       "1  0.000548  0.000485  0.000401  0.000653 -0.000436 -0.000259 -0.000593   \n",
       "2  0.000102 -0.000047 -0.000533  0.001268 -0.000091 -0.000284 -0.000563   \n",
       "3 -0.000110 -0.000425  0.000329 -0.000277 -0.000014  0.000299  0.000028   \n",
       "4  0.000354  0.000525 -0.000573 -0.000166 -0.000272  0.000589 -0.000043   \n",
       "\n",
       "        7         8         9    ...       790       791       792       793  \\\n",
       "0 -0.001344 -0.000697 -0.000358  ... -0.000624  0.000708 -0.000135 -0.000413   \n",
       "1 -0.000181  0.000024 -0.000385  ... -0.000450  0.000019 -0.000602 -0.000599   \n",
       "2 -0.000224 -0.000177  0.000227  ...  0.000555 -0.000258  0.000473 -0.000636   \n",
       "3  0.000027 -0.000026 -0.000288  ...  0.000318  0.000032  0.000099  0.000276   \n",
       "4 -0.000080  0.000415 -0.000512  ...  0.000383 -0.000353 -0.000605 -0.000587   \n",
       "\n",
       "        794       795       796       797       798       799  \n",
       "0  0.000960  0.001138  0.000154 -0.000636  0.001057 -0.000269  \n",
       "1  0.000016  0.000534  0.000388  0.000161  0.000244  0.000412  \n",
       "2  0.000535 -0.000107  0.000331  0.000350  0.000228  0.000386  \n",
       "3  0.000143 -0.000289 -0.000255 -0.000478 -0.000235  0.000207  \n",
       "4 -0.000069 -0.000052 -0.000576  0.000300  0.000166  0.000455  \n",
       "\n",
       "[5 rows x 800 columns]"
      ]
     },
     "execution_count": 15,
     "metadata": {},
     "output_type": "execute_result"
    }
   ],
   "source": [
    "X=model[model.wv.vocab]\n",
    "df=pd.DataFrame(X)\n",
    "df.shape\n",
    "df.head()"
   ]
  },
  {
   "cell_type": "code",
   "execution_count": 16,
   "metadata": {},
   "outputs": [],
   "source": [
    "#Computing the correlation matrix\n",
    "X_corr=df.corr()\n",
    "\n",
    "#Computing eigen values and eigen vectors\n",
    "values,vectors=np.linalg.eig(X_corr)\n",
    "\n",
    "#Sorting the eigen vectors coresponding to eigen values in descending order\n",
    "args = (-values).argsort()\n",
    "values = vectors[args]\n",
    "vectors = vectors[:, args]\n",
    "\n",
    "#Taking first 2 components which explain maximum variance for projecting\n",
    "new_vectors=vectors[:,:2]\n",
    "\n",
    "#Projecting it onto new dimesion with 2 axis\n",
    "neww_X=np.dot(X,new_vectors)"
   ]
  },
  {
   "cell_type": "code",
   "execution_count": 20,
   "metadata": {},
   "outputs": [
    {
     "data": {
      "text/plain": [
       "['venture',\n",
       " 'song',\n",
       " 'meaning',\n",
       " 'album',\n",
       " 'pipeline',\n",
       " 'walk',\n",
       " 'run',\n",
       " 'apache',\n",
       " 'capital',\n",
       " 'youtube',\n",
       " 'music',\n",
       " 'guitar',\n",
       " 'comcast',\n",
       " 'hit',\n",
       " 'business',\n",
       " 'definition',\n",
       " 'best',\n",
       " 'surf',\n",
       " 'mean',\n",
       " 'band',\n",
       " 'telstar',\n",
       " 'company',\n",
       " 'wilson',\n",
       " 'seattle',\n",
       " 'wipeout',\n",
       " 'ffxiv',\n",
       " 'greatest',\n",
       " 'play',\n",
       " 'google',\n",
       " 'rock',\n",
       " 'drummer',\n",
       " 'download',\n",
       " 'ventured',\n",
       " 'go',\n",
       " 'synonym',\n",
       " 'new',\n",
       " 'venturing',\n",
       " 'free',\n",
       " 'original',\n",
       " 'mp']"
      ]
     },
     "execution_count": 20,
     "metadata": {},
     "output_type": "execute_result"
    }
   ],
   "source": [
    "model.wv.index2entity[:40]"
   ]
  },
  {
   "cell_type": "code",
   "execution_count": 19,
   "metadata": {},
   "outputs": [
    {
     "data": {
      "image/png": "[encoded data removed]",
      "text/plain": [
       "<Figure size 1440x720 with 1 Axes>"
      ]
     },
     "metadata": {},
     "output_type": "display_data"
    }
   ],
   "source": [
    "import seaborn as sns\n",
    "sns.set_style('darkgrid')\n",
    "\n",
    "import matplotlib.pyplot as plt\n",
    "plt.figure(figsize=(20,10))\n",
    "# plt.scatter(neww_X[20:,0],neww_X[20:,1],linewidths=10,color='red',label='least frequent')\n",
    "plt.scatter(neww_X[:40,0],neww_X[:40,1],linewidths=10,color='blue',label = 'most frequent')\n",
    "plt.xlabel(\"PC1\",size=15)\n",
    "plt.ylabel(\"PC2\",size=15)\n",
    "plt.legend(fancybox=True, framealpha=1, shadow=True, borderpad=1,fontsize='xx-large')\n",
    "plt.title(\"Word Embedding Space with 20 most frequent words \",size=20)\n",
    "vocab=list(model.wv.vocab)[:40]\n",
    "for i, word in enumerate(vocab):\n",
    "  plt.annotate(word,xy=(neww_X[i,0],neww_X[i,1]))\n",
    "plt.savefig('most_least_words.png', dpi=400, bbox_inches='tight')\n",
    "#   plt.annotate(word,xy=(neww_X[i+19,0],neww_X[i+19,1]))"
   ]
  },
  {
   "cell_type": "code",
   "execution_count": null,
   "metadata": {},
   "outputs": [],
   "source": []
  }
 ],
 "metadata": {
  "kernelspec": {
   "display_name": "Python 3",
   "language": "python",
   "name": "python3"
  },
  "language_info": {
   "codemirror_mode": {
    "name": "ipython",
    "version": 3
   },
   "file_extension": ".py",
   "mimetype": "text/x-python",
   "name": "python",
   "nbconvert_exporter": "python",
   "pygments_lexer": "ipython3",
   "version": "3.8.3"
  }
 },
 "nbformat": 4,
 "nbformat_minor": 4
}
